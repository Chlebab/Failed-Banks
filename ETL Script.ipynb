{
 "cells": [
  {
   "cell_type": "code",
   "execution_count": 1,
   "id": "73239503",
   "metadata": {},
   "outputs": [],
   "source": [
    "from extract import extract # import the external extract class\n",
    "from transform import transform # import the external extract class\n",
    "from load import load # import the external load class\n",
    "\n",
    "e = extract()\n",
    "dataset = e.fromCSV(file_path = 'data/banklist.csv')\n",
    "\n",
    "t = transform()\n",
    "dataset_with_full_name_states = t.add_full_state_name(dataset, 'data/states.csv')\n",
    "\n",
    "l = load()\n",
    "\n",
    "# Number of closed banks per date\n",
    "date_closed_banks = t.transform(dataset_with_full_name_states, columns_to_remove=['Cert', 'Bank Name', 'City', 'Acquiring Institution', 'Fund', 'State', 'State Name'])\n",
    "l.toCSV(file_path = \"data/banklist_date_closed_banks.csv\", dataset = date_closed_banks)\n",
    "# check_dataset = e.fromCSV(file_path = 'data/banklist_date_closed_banks.csv')\n",
    "# print(check_dataset)\n",
    "\n",
    "# Number of closed banks per state\n",
    "state_closed_banks = t.transform(dataset_with_full_name_states, columns_to_remove=['Cert', 'Bank Name', 'City', 'Acquiring Institution', 'Fund', 'State', 'Closing Date'])\n",
    "l.toCSV(file_path = \"data/banklist_state_closed_banks.csv\", dataset = state_closed_banks)\n",
    "# check_dataset = e.fromCSV(file_path = 'data/banklist_state_closed_banks.csv')\n",
    "# print(check_dataset)\n",
    "\n",
    "# Number of closed banks per acquiring bank\n",
    "acquiring_closed_banks = t.transform(dataset_with_full_name_states, columns_to_remove=['Cert', 'Bank Name', 'City', 'State Name', 'Fund', 'State', 'Closing Date'])\n",
    "l.toCSV(file_path = \"data/banklist_acquiring_closed_banks.csv\", dataset = acquiring_closed_banks)\n",
    "# check_dataset = e.fromCSV(file_path = 'data/banklist_acquiring_closed_banks.csv')\n",
    "# print(check_dataset)"
   ]
  },
  {
   "cell_type": "code",
   "execution_count": null,
   "id": "c7ffaae8",
   "metadata": {},
   "outputs": [],
   "source": []
  }
 ],
 "metadata": {
  "kernelspec": {
   "display_name": "Python 3 (ipykernel)",
   "language": "python",
   "name": "python3"
  },
  "language_info": {
   "codemirror_mode": {
    "name": "ipython",
    "version": 3
   },
   "file_extension": ".py",
   "mimetype": "text/x-python",
   "name": "python",
   "nbconvert_exporter": "python",
   "pygments_lexer": "ipython3",
   "version": "3.11.5"
  }
 },
 "nbformat": 4,
 "nbformat_minor": 5
}
