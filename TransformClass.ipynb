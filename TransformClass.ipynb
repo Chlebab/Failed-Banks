{
 "cells": [
  {
   "cell_type": "code",
   "execution_count": 16,
   "id": "48b370b9",
   "metadata": {},
   "outputs": [
    {
     "data": {
      "text/plain": [
       "[{'Bank Name': 'National State Bank of Metropolis',\n",
       "  'City': 'Metropolis',\n",
       "  'State': 'IL',\n",
       "  'Cert': '3815',\n",
       "  'Acquiring Institution': 'Banterra Bank of Marion',\n",
       "  'Closing Date': '14-Dec-00',\n",
       "  'Fund': '4646',\n",
       "  'State abr': 'IL'},\n",
       " {'Bank Name': 'Bank of Honolulu',\n",
       "  'City': 'Honolulu',\n",
       "  'State': 'HI',\n",
       "  'Cert': '21029',\n",
       "  'Acquiring Institution': 'Bank of the Orient',\n",
       "  'Closing Date': '13-Oct-00',\n",
       "  'Fund': '4645',\n",
       "  'State abr': 'HI'}]"
      ]
     },
     "execution_count": 16,
     "metadata": {},
     "output_type": "execute_result"
    }
   ],
   "source": [
    "from extract import extract # import the external extract class\n",
    "\n",
    "class transform:\n",
    "    def head(self, dataset, steps): #return the top N records from the dataset\n",
    "        return dataset[:steps]\n",
    "            \n",
    "    def tail(self, dataset, steps): #return the last N records from the dataset\n",
    "        return dataset[-steps:]\n",
    "            \n",
    "    def rename_attribute(self, dataset, old_name, new_name): #rename a column in the dataset\n",
    "        new_dataset = []\n",
    "        for row in dataset:\n",
    "            new_row = row.copy()\n",
    "            if old_name in row:\n",
    "                new_row[new_name] = new_row[old_name]\n",
    "            new_dataset.append(new_row)\n",
    "        return new_dataset\n",
    "    \n",
    "    def remove_attribute(self, dataset, column_to_remove): #remove a column from the dataset\n",
    "        return [\n",
    "            {key: value for key, value in row.items() if key != column_to_remove} for row in dataset\n",
    "        ]\n",
    "    \n",
    "    def rename_attributes(self, dataset, old_names, new_names): #rename a list of columns in the dataset\n",
    "        new_dataset = []\n",
    "        for row in dataset:\n",
    "            new_row = row.copy()\n",
    "            for i, (old_name, new_name) in enumerate(zip(old_names, new_names)):\n",
    "                if old_name in row:\n",
    "                    new_row[new_name] = new_row[old_name]\n",
    "                    del new_row[old_name]\n",
    "            new_dataset.append(new_row)\n",
    "        return new_dataset\n",
    "    \n",
    "    def remove_attributes(self, dataset, columns_to_remove): #remove a list of columns in the dataset\n",
    "        new_dataset = [{key:value for key,value in row.items() if key not in columns_to_remove} \n",
    "                       for row in dataset]\n",
    "        return new_dataset\n",
    "            \n",
    "    def transform(self, dataset, columns_to_remove=None, renames=None):\n",
    "        new_dataset = dataset[:]\n",
    "        # Remove attributes\n",
    "        if columns_to_remove is not None:\n",
    "            new_dataset = self.remove_attributes(new_dataset, columns_to_remove)\n",
    "        # Rename attributes\n",
    "        if renames is not None:\n",
    "            new_dataset = self.rename_attributes(new_dataset, list(renames.keys()), list(renames.values()))\n",
    "        return new_dataset\n",
    "\n",
    "e = extract()\n",
    "dataset = e.fromCSV(\"data/banklist.csv\")\n",
    "t = transform()\n",
    "# data = t.head(dataset, 1)\n",
    "# data = t.tail(dataset, 2)\n",
    "# print(\"data: \", data)\n",
    "\n",
    "# data =  t.rename_attribute(dataset, 'State', 'State abr')\n",
    "# t.tail(data, 2)\n",
    "\n",
    "# data = t.remove_attribute(dataset, 'Bank Name')\n",
    "# print(data)\n",
    "\n",
    "# data = t.rename_attributes(dataset, ['State', 'Cert'], ['STATE ABR', 'CERTIFICATION'])\n",
    "# print(data)\n",
    "\n",
    "# new_dataset = t.remove_attributes(dataset, ['City', 'Bank Name', 'State'])\n",
    "# print(\"new_dataset: \", new_dataset)\n",
    "\n",
    "# data = t.transform(dataset, columns_to_remove=['Bank Name', 'City', 'Cert', 'Acquiring Institution', 'Fund'], renames={'State': 'State Abbreviation'})\n",
    "# print(data[0])"
   ]
  },
  {
   "cell_type": "code",
   "execution_count": null,
   "id": "ae74c009",
   "metadata": {},
   "outputs": [],
   "source": []
  }
 ],
 "metadata": {
  "kernelspec": {
   "display_name": "Python 3 (ipykernel)",
   "language": "python",
   "name": "python3"
  },
  "language_info": {
   "codemirror_mode": {
    "name": "ipython",
    "version": 3
   },
   "file_extension": ".py",
   "mimetype": "text/x-python",
   "name": "python",
   "nbconvert_exporter": "python",
   "pygments_lexer": "ipython3",
   "version": "3.11.5"
  }
 },
 "nbformat": 4,
 "nbformat_minor": 5
}
