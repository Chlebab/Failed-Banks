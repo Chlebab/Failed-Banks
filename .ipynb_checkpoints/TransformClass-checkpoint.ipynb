{
 "cells": [
  {
   "cell_type": "code",
   "execution_count": 1,
   "id": "48b370b9",
   "metadata": {},
   "outputs": [
    {
     "name": "stdout",
     "output_type": "stream",
     "text": [
      "[{'State Abbreviation': 'IA'}, {'State Abbreviation': 'KS'}, {'State Abbreviation': 'CA'}, {'State Abbreviation': 'NY'}, {'State Abbreviation': 'CA'}, {'State Abbreviation': 'KS'}, {'State Abbreviation': 'FL'}, {'State Abbreviation': 'WV'}, {'State Abbreviation': 'NE'}, {'State Abbreviation': 'NJ'}, {'State Abbreviation': 'OH'}, {'State Abbreviation': 'KY'}, {'State Abbreviation': 'TX'}, {'State Abbreviation': 'IL'}, {'State Abbreviation': 'KS'}, {'State Abbreviation': 'IL'}, {'State Abbreviation': 'WI'}, {'State Abbreviation': 'LA'}, {'State Abbreviation': 'UT'}, {'State Abbreviation': 'IL'}, {'State Abbreviation': 'NJ'}, {'State Abbreviation': 'AR'}, {'State Abbreviation': 'GA'}, {'State Abbreviation': 'PA'}, {'State Abbreviation': 'TN'}, {'State Abbreviation': 'WI'}, {'State Abbreviation': 'WA'}, {'State Abbreviation': 'GA'}, {'State Abbreviation': 'CO'}, {'State Abbreviation': 'IL'}, {'State Abbreviation': 'PR'}, {'State Abbreviation': 'GA'}, {'State Abbreviation': 'IL'}, {'State Abbreviation': 'FL'}, {'State Abbreviation': 'MN'}, {'State Abbreviation': 'CA'}, {'State Abbreviation': 'IL'}, {'State Abbreviation': 'MD'}, {'State Abbreviation': 'IL'}, {'State Abbreviation': 'GA'}, {'State Abbreviation': 'OK'}, {'State Abbreviation': 'FL'}, {'State Abbreviation': 'IL'}, {'State Abbreviation': 'MD'}, {'State Abbreviation': 'OH'}, {'State Abbreviation': 'IL'}, {'State Abbreviation': 'SC'}, {'State Abbreviation': 'PA'}, {'State Abbreviation': 'VA'}, {'State Abbreviation': 'ID'}, {'State Abbreviation': 'OK'}, {'State Abbreviation': 'IL'}, {'State Abbreviation': 'TX'}, {'State Abbreviation': 'FL'}, {'State Abbreviation': 'TX'}, {'State Abbreviation': 'CT'}, {'State Abbreviation': 'AZ'}, {'State Abbreviation': 'TN'}, {'State Abbreviation': 'WI'}, {'State Abbreviation': 'FL'}, {'State Abbreviation': 'TN'}, {'State Abbreviation': 'NV'}, {'State Abbreviation': 'WI'}, {'State Abbreviation': 'AZ'}, {'State Abbreviation': 'GA'}, {'State Abbreviation': 'NC'}, {'State Abbreviation': 'GA'}, {'State Abbreviation': 'NC'}, {'State Abbreviation': 'FL'}, {'State Abbreviation': 'FL'}, {'State Abbreviation': 'KY'}, {'State Abbreviation': 'AZ'}, {'State Abbreviation': 'GA'}, {'State Abbreviation': 'IL'}, {'State Abbreviation': 'MN'}, {'State Abbreviation': 'WA'}, {'State Abbreviation': 'MO'}, {'State Abbreviation': 'GA'}, {'State Abbreviation': 'IL'}, {'State Abbreviation': 'FL'}, {'State Abbreviation': 'PA'}, {'State Abbreviation': 'MO'}, {'State Abbreviation': 'FL'}, {'State Abbreviation': 'FL'}, {'State Abbreviation': 'IL'}, {'State Abbreviation': 'MO'}, {'State Abbreviation': 'MN'}, {'State Abbreviation': 'IL'}, {'State Abbreviation': 'GA'}, {'State Abbreviation': 'IL'}, {'State Abbreviation': 'KS'}, {'State Abbreviation': 'GA'}, {'State Abbreviation': 'GA'}, {'State Abbreviation': 'FL'}, {'State Abbreviation': 'MO'}, {'State Abbreviation': 'GA'}, {'State Abbreviation': 'TN'}, {'State Abbreviation': 'GA'}, {'State Abbreviation': 'FL'}, {'State Abbreviation': 'NC'}, {'State Abbreviation': 'IL'}, {'State Abbreviation': 'SC'}, {'State Abbreviation': 'OK'}, {'State Abbreviation': 'AL'}, {'State Abbreviation': 'FL'}, {'State Abbreviation': 'CA'}, {'State Abbreviation': 'SC'}, {'State Abbreviation': 'MN'}, {'State Abbreviation': 'MD'}, {'State Abbreviation': 'MD'}, {'State Abbreviation': 'NJ'}, {'State Abbreviation': 'MI'}, {'State Abbreviation': 'IL'}, {'State Abbreviation': 'GA'}, {'State Abbreviation': 'IL'}, {'State Abbreviation': 'GA'}, {'State Abbreviation': 'MN'}, {'State Abbreviation': 'GA'}, {'State Abbreviation': 'IN'}, {'State Abbreviation': 'IL'}, {'State Abbreviation': 'TN'}, {'State Abbreviation': 'MN'}, {'State Abbreviation': 'TN'}, {'State Abbreviation': 'FL'}, {'State Abbreviation': 'PA'}, {'State Abbreviation': 'GA'}, {'State Abbreviation': 'FL'}, {'State Abbreviation': 'AZ'}, {'State Abbreviation': 'FL'}, {'State Abbreviation': 'LA'}, {'State Abbreviation': 'IA'}, {'State Abbreviation': 'GA'}, {'State Abbreviation': 'UT'}, {'State Abbreviation': 'NE'}, {'State Abbreviation': 'IL'}, {'State Abbreviation': 'CO'}, {'State Abbreviation': 'GA'}, {'State Abbreviation': 'GA'}, {'State Abbreviation': 'FL'}, {'State Abbreviation': 'IL'}, {'State Abbreviation': 'NJ'}, {'State Abbreviation': 'NC'}, {'State Abbreviation': 'GA'}, {'State Abbreviation': 'MO'}, {'State Abbreviation': 'MN'}, {'State Abbreviation': 'TX'}, {'State Abbreviation': 'CA'}, {'State Abbreviation': 'VA'}, {'State Abbreviation': 'FL'}, {'State Abbreviation': 'GA'}, {'State Abbreviation': 'GA'}, {'State Abbreviation': 'IL'}, {'State Abbreviation': 'GA'}, {'State Abbreviation': 'FL'}, {'State Abbreviation': 'PA'}, {'State Abbreviation': 'KS'}, {'State Abbreviation': 'WA'}, {'State Abbreviation': 'IL'}, {'State Abbreviation': 'IN'}, {'State Abbreviation': 'SC'}, {'State Abbreviation': 'VA'}, {'State Abbreviation': 'CO'}, {'State Abbreviation': 'FL'}, {'State Abbreviation': 'FL'}, {'State Abbreviation': 'AZ'}, {'State Abbreviation': 'FL'}, {'State Abbreviation': 'GA'}, {'State Abbreviation': 'GA'}, {'State Abbreviation': 'CO'}, {'State Abbreviation': 'CO'}, {'State Abbreviation': 'IL'}, {'State Abbreviation': 'GA'}, {'State Abbreviation': 'FL'}, {'State Abbreviation': 'GA'}, {'State Abbreviation': 'SC'}, {'State Abbreviation': 'WA'}, {'State Abbreviation': 'WA'}, {'State Abbreviation': 'GA'}, {'State Abbreviation': 'GA'}, {'State Abbreviation': 'FL'}, {'State Abbreviation': 'MI'}, {'State Abbreviation': 'GA'}, {'State Abbreviation': 'GA'}, {'State Abbreviation': 'FL'}, {'State Abbreviation': 'FL'}, {'State Abbreviation': 'MS'}, {'State Abbreviation': 'MN'}, {'State Abbreviation': 'AL'}, {'State Abbreviation': 'AL'}, {'State Abbreviation': 'GA'}, {'State Abbreviation': 'GA'}, {'State Abbreviation': 'NV'}, {'State Abbreviation': 'IL'}, {'State Abbreviation': 'IL'}, {'State Abbreviation': 'WI'}, {'State Abbreviation': 'OK'}, {'State Abbreviation': 'IL'}, {'State Abbreviation': 'CA'}, {'State Abbreviation': 'CA'}, {'State Abbreviation': 'GA'}, {'State Abbreviation': 'GA'}, {'State Abbreviation': 'CA'}, {'State Abbreviation': 'WI'}, {'State Abbreviation': 'MI'}, {'State Abbreviation': 'FL'}, {'State Abbreviation': 'IL'}, {'State Abbreviation': 'GA'}, {'State Abbreviation': 'GA'}, {'State Abbreviation': 'NM'}, {'State Abbreviation': 'CO'}, {'State Abbreviation': 'WI'}, {'State Abbreviation': 'OK'}, {'State Abbreviation': 'CO'}, {'State Abbreviation': 'NC'}, {'State Abbreviation': 'SC'}, {'State Abbreviation': 'GA'}, {'State Abbreviation': 'GA'}, {'State Abbreviation': 'AZ'}, {'State Abbreviation': 'FL'}, {'State Abbreviation': 'MN'}, {'State Abbreviation': 'AR'}, {'State Abbreviation': 'GA'}, {'State Abbreviation': 'GA'}, {'State Abbreviation': 'GA'}, {'State Abbreviation': 'FL'}, {'State Abbreviation': 'PA'}, {'State Abbreviation': 'MI'}, {'State Abbreviation': 'WI'}, {'State Abbreviation': 'PA'}, {'State Abbreviation': 'FL'}, {'State Abbreviation': 'AZ'}, {'State Abbreviation': 'GA'}, {'State Abbreviation': 'GA'}, {'State Abbreviation': 'CA'}, {'State Abbreviation': 'WA'}, {'State Abbreviation': 'CA'}, {'State Abbreviation': 'MD'}, {'State Abbreviation': 'AZ'}, {'State Abbreviation': 'KS'}, {'State Abbreviation': 'IL'}, {'State Abbreviation': 'GA'}, {'State Abbreviation': 'GA'}, {'State Abbreviation': 'FL'}, {'State Abbreviation': 'FL'}, {'State Abbreviation': 'MO'}, {'State Abbreviation': 'MO'}, {'State Abbreviation': 'KS'}, {'State Abbreviation': 'WA'}, {'State Abbreviation': 'FL'}, {'State Abbreviation': 'WA'}, {'State Abbreviation': 'FL'}, {'State Abbreviation': 'WI'}, {'State Abbreviation': 'OH'}, {'State Abbreviation': 'GA'}, {'State Abbreviation': 'GA'}, {'State Abbreviation': 'GA'}, {'State Abbreviation': 'NJ'}, {'State Abbreviation': 'FL'}, {'State Abbreviation': 'CA'}, {'State Abbreviation': 'CA'}, {'State Abbreviation': 'CA'}, {'State Abbreviation': 'CA'}, {'State Abbreviation': 'IL'}, {'State Abbreviation': 'VA'}, {'State Abbreviation': 'FL'}, {'State Abbreviation': 'FL'}, {'State Abbreviation': 'IL'}, {'State Abbreviation': 'IL'}, {'State Abbreviation': 'OR'}, {'State Abbreviation': 'WA'}, {'State Abbreviation': 'FL'}, {'State Abbreviation': 'FL'}, {'State Abbreviation': 'GA'}, {'State Abbreviation': 'OR'}, {'State Abbreviation': 'NV'}, {'State Abbreviation': 'MN'}, {'State Abbreviation': 'KS'}, {'State Abbreviation': 'SC'}, {'State Abbreviation': 'GA'}, {'State Abbreviation': 'FL'}, {'State Abbreviation': 'MI'}, {'State Abbreviation': 'FL'}, {'State Abbreviation': 'FL'}, {'State Abbreviation': 'FL'}, {'State Abbreviation': 'SC'}, {'State Abbreviation': 'SC'}, {'State Abbreviation': 'OK'}, {'State Abbreviation': 'NY'}, {'State Abbreviation': 'MD'}, {'State Abbreviation': 'MD'}, {'State Abbreviation': 'NM'}, {'State Abbreviation': 'GA'}, {'State Abbreviation': 'FL'}, {'State Abbreviation': 'NV'}, {'State Abbreviation': 'WA'}, {'State Abbreviation': 'NE'}, {'State Abbreviation': 'IL'}, {'State Abbreviation': 'MS'}, {'State Abbreviation': 'NV'}, {'State Abbreviation': 'CA'}, {'State Abbreviation': 'FL'}, {'State Abbreviation': 'FL'}, {'State Abbreviation': 'FL'}, {'State Abbreviation': 'MN'}, {'State Abbreviation': 'IL'}, {'State Abbreviation': 'MO'}, {'State Abbreviation': 'MI'}, {'State Abbreviation': 'GA'}, {'State Abbreviation': 'CA'}, {'State Abbreviation': 'AZ'}, {'State Abbreviation': 'MN'}, {'State Abbreviation': 'FL'}, {'State Abbreviation': 'WA'}, {'State Abbreviation': 'MO'}, {'State Abbreviation': 'MO'}, {'State Abbreviation': 'MI'}, {'State Abbreviation': 'PR'}, {'State Abbreviation': 'PR'}, {'State Abbreviation': 'PR'}, {'State Abbreviation': 'IL'}, {'State Abbreviation': 'IL'}, {'State Abbreviation': 'IL'}, {'State Abbreviation': 'IL'}, {'State Abbreviation': 'IL'}, {'State Abbreviation': 'IL'}, {'State Abbreviation': 'IL'}, {'State Abbreviation': 'WA'}, {'State Abbreviation': 'CA'}, {'State Abbreviation': 'CA'}, {'State Abbreviation': 'MA'}, {'State Abbreviation': 'FL'}, {'State Abbreviation': 'FL'}, {'State Abbreviation': 'FL'}, {'State Abbreviation': 'MI'}, {'State Abbreviation': 'SC'}, {'State Abbreviation': 'AZ'}, {'State Abbreviation': 'GA'}, {'State Abbreviation': 'FL'}, {'State Abbreviation': 'GA'}, {'State Abbreviation': 'MN'}, {'State Abbreviation': 'AL'}, {'State Abbreviation': 'GA'}, {'State Abbreviation': 'GA'}, {'State Abbreviation': 'UT'}, {'State Abbreviation': 'GA'}, {'State Abbreviation': 'OH'}, {'State Abbreviation': 'LA'}, {'State Abbreviation': 'FL'}, {'State Abbreviation': 'NY'}, {'State Abbreviation': 'NY'}, {'State Abbreviation': 'UT'}, {'State Abbreviation': 'MD'}, {'State Abbreviation': 'IL'}, {'State Abbreviation': 'FL'}, {'State Abbreviation': 'WA'}, {'State Abbreviation': 'NV'}, {'State Abbreviation': 'CA'}, {'State Abbreviation': 'IL'}, {'State Abbreviation': 'TX'}, {'State Abbreviation': 'FL'}, {'State Abbreviation': 'MN'}, {'State Abbreviation': 'WA'}, {'State Abbreviation': 'CA'}, {'State Abbreviation': 'GA'}, {'State Abbreviation': 'MN'}, {'State Abbreviation': 'FL'}, {'State Abbreviation': 'GA'}, {'State Abbreviation': 'OR'}, {'State Abbreviation': 'WA'}, {'State Abbreviation': 'NM'}, {'State Abbreviation': 'MO'}, {'State Abbreviation': 'FL'}, {'State Abbreviation': 'UT'}, {'State Abbreviation': 'MN'}, {'State Abbreviation': 'IL'}, {'State Abbreviation': 'WA'}, {'State Abbreviation': 'CA'}, {'State Abbreviation': 'CA'}, {'State Abbreviation': 'IL'}, {'State Abbreviation': 'AL'}, {'State Abbreviation': 'MI'}, {'State Abbreviation': 'FL'}, {'State Abbreviation': 'GA'}, {'State Abbreviation': 'KS'}, {'State Abbreviation': 'AZ'}, {'State Abbreviation': 'FL'}, {'State Abbreviation': 'VA'}, {'State Abbreviation': 'IL'}, {'State Abbreviation': 'OH'}, {'State Abbreviation': 'GA'}, {'State Abbreviation': 'GA'}, {'State Abbreviation': 'GA'}, {'State Abbreviation': 'FL'}, {'State Abbreviation': 'CA'}, {'State Abbreviation': 'FL'}, {'State Abbreviation': 'FL'}, {'State Abbreviation': 'CA'}, {'State Abbreviation': 'MO'}, {'State Abbreviation': 'MN'}, {'State Abbreviation': 'MI'}, {'State Abbreviation': 'GA'}, {'State Abbreviation': 'TX'}, {'State Abbreviation': 'TX'}, {'State Abbreviation': 'TX'}, {'State Abbreviation': 'IL'}, {'State Abbreviation': 'CA'}, {'State Abbreviation': 'CA'}, {'State Abbreviation': 'CA'}, {'State Abbreviation': 'IL'}, {'State Abbreviation': 'AZ'}, {'State Abbreviation': 'IL'}, {'State Abbreviation': 'MN'}, {'State Abbreviation': 'WI'}, {'State Abbreviation': 'FL'}, {'State Abbreviation': 'FL'}, {'State Abbreviation': 'GA'}, {'State Abbreviation': 'FL'}, {'State Abbreviation': 'CA'}, {'State Abbreviation': 'CO'}, {'State Abbreviation': 'MN'}, {'State Abbreviation': 'MI'}, {'State Abbreviation': 'GA'}, {'State Abbreviation': 'KY'}, {'State Abbreviation': 'IN'}, {'State Abbreviation': 'WA'}, {'State Abbreviation': 'MN'}, {'State Abbreviation': 'IL'}, {'State Abbreviation': 'AZ'}, {'State Abbreviation': 'IL'}, {'State Abbreviation': 'IA'}, {'State Abbreviation': 'IL'}, {'State Abbreviation': 'MO'}, {'State Abbreviation': 'CA'}, {'State Abbreviation': 'MN'}, {'State Abbreviation': 'MD'}, {'State Abbreviation': 'TX'}, {'State Abbreviation': 'AL'}, {'State Abbreviation': 'GA'}, {'State Abbreviation': 'GA'}, {'State Abbreviation': 'NV'}, {'State Abbreviation': 'AZ'}, {'State Abbreviation': 'AZ'}, {'State Abbreviation': 'AL'}, {'State Abbreviation': 'PA'}, {'State Abbreviation': 'OR'}, {'State Abbreviation': 'FL'}, {'State Abbreviation': 'FL'}, {'State Abbreviation': 'IL'}, {'State Abbreviation': 'NJ'}, {'State Abbreviation': 'OH'}, {'State Abbreviation': 'FL'}, {'State Abbreviation': 'OK'}, {'State Abbreviation': 'GA'}, {'State Abbreviation': 'GA'}, {'State Abbreviation': 'GA'}, {'State Abbreviation': 'GA'}, {'State Abbreviation': 'GA'}, {'State Abbreviation': 'GA'}, {'State Abbreviation': 'NY'}, {'State Abbreviation': 'CA'}, {'State Abbreviation': 'CA'}, {'State Abbreviation': 'SD'}, {'State Abbreviation': 'GA'}, {'State Abbreviation': 'WY'}, {'State Abbreviation': 'IL'}, {'State Abbreviation': 'TX'}, {'State Abbreviation': 'IL'}, {'State Abbreviation': 'IL'}, {'State Abbreviation': 'IL'}, {'State Abbreviation': 'IL'}, {'State Abbreviation': 'IL'}, {'State Abbreviation': 'CA'}, {'State Abbreviation': 'CA'}, {'State Abbreviation': 'MN'}, {'State Abbreviation': 'GA'}, {'State Abbreviation': 'GA'}, {'State Abbreviation': 'KS'}, {'State Abbreviation': 'NC'}, {'State Abbreviation': 'GA'}, {'State Abbreviation': 'IL'}, {'State Abbreviation': 'IL'}, {'State Abbreviation': 'IL'}, {'State Abbreviation': 'FL'}, {'State Abbreviation': 'WA'}, {'State Abbreviation': 'UT'}, {'State Abbreviation': 'NJ'}, {'State Abbreviation': 'GA'}, {'State Abbreviation': 'ID'}, {'State Abbreviation': 'CA'}, {'State Abbreviation': 'MI'}, {'State Abbreviation': 'GA'}, {'State Abbreviation': 'NV'}, {'State Abbreviation': 'MO'}, {'State Abbreviation': 'CO'}, {'State Abbreviation': 'NC'}, {'State Abbreviation': 'GA'}, {'State Abbreviation': 'KS'}, {'State Abbreviation': 'CO'}, {'State Abbreviation': 'GA'}, {'State Abbreviation': 'GA'}, {'State Abbreviation': 'NV'}, {'State Abbreviation': 'IL'}, {'State Abbreviation': 'OR'}, {'State Abbreviation': 'OR'}, {'State Abbreviation': 'IL'}, {'State Abbreviation': 'FL'}, {'State Abbreviation': 'NE'}, {'State Abbreviation': 'CA'}, {'State Abbreviation': 'CA'}, {'State Abbreviation': 'GA'}, {'State Abbreviation': 'FL'}, {'State Abbreviation': 'MD'}, {'State Abbreviation': 'UT'}, {'State Abbreviation': 'CA'}, {'State Abbreviation': 'WA'}, {'State Abbreviation': 'IL'}, {'State Abbreviation': 'TX'}, {'State Abbreviation': 'GA'}, {'State Abbreviation': 'GA'}, {'State Abbreviation': 'CA'}, {'State Abbreviation': 'CA'}, {'State Abbreviation': 'GA'}, {'State Abbreviation': 'CA'}, {'State Abbreviation': 'TX'}, {'State Abbreviation': 'FL'}, {'State Abbreviation': 'GA'}, {'State Abbreviation': 'IL'}, {'State Abbreviation': 'MI'}, {'State Abbreviation': 'NV'}, {'State Abbreviation': 'WV'}, {'State Abbreviation': 'NV'}, {'State Abbreviation': 'GA'}, {'State Abbreviation': 'KS'}, {'State Abbreviation': 'FL'}, {'State Abbreviation': 'CA'}, {'State Abbreviation': 'NV'}, {'State Abbreviation': 'CA'}, {'State Abbreviation': 'MN'}, {'State Abbreviation': 'AR'}, {'State Abbreviation': 'MO'}, {'State Abbreviation': 'MO'}, {'State Abbreviation': 'OH'}, {'State Abbreviation': 'GA'}, {'State Abbreviation': 'PA'}, {'State Abbreviation': 'UT'}, {'State Abbreviation': 'NY'}, {'State Abbreviation': 'FL'}, {'State Abbreviation': 'NJ'}, {'State Abbreviation': 'PA'}, {'State Abbreviation': 'WI'}, {'State Abbreviation': 'CA'}, {'State Abbreviation': 'LA'}, {'State Abbreviation': 'TN'}, {'State Abbreviation': 'GA'}, {'State Abbreviation': 'IL'}, {'State Abbreviation': 'CT'}, {'State Abbreviation': 'MI'}, {'State Abbreviation': 'FL'}, {'State Abbreviation': 'AZ'}, {'State Abbreviation': 'OH'}, {'State Abbreviation': 'TX'}, {'State Abbreviation': 'FL'}, {'State Abbreviation': 'AR'}, {'State Abbreviation': 'IL'}, {'State Abbreviation': 'OH'}, {'State Abbreviation': 'NH'}, {'State Abbreviation': 'IL'}, {'State Abbreviation': 'HI'}]\n"
     ]
    }
   ],
   "source": [
    "from extract import extract # import the external extract class\n",
    "\n",
    "class transform:\n",
    "    def head(self, dataset, steps): #return the top N records from the dataset\n",
    "        for step in range(steps):\n",
    "            return dataset[step]\n",
    "            \n",
    "    def tail(self, dataset, steps): #return the last N records from the dataset\n",
    "        for step in range(steps):\n",
    "            return dataset[-steps:]\n",
    "            \n",
    "    def rename_attribute(self, dataset, old_name, new_name): #rename a column in the dataset\n",
    "        new_dataset = []\n",
    "        for row in dataset:\n",
    "            new_row = {new_name: row.get(old_name, None)} if old_name in row else row.copy()\n",
    "            new_dataset.append(new_row)\n",
    "        return new_dataset\n",
    "    \n",
    "    def remove_attribute(self, dataset, column_to_remove): #remove a column from the dataset\n",
    "        return [\n",
    "            {key: value for key, value in row.items() if key != column_to_remove} for row in dataset\n",
    "        ]\n",
    "    \n",
    "    def rename_attributes(self, dataset, old_names, new_names): #rename a list of columns in the dataset\n",
    "        new_dataset = dataset.copy()\n",
    "        for row in new_dataset:\n",
    "            for old_name, new_name in zip(old_names, new_names):\n",
    "                if old_name in row:\n",
    "                    row[new_name] = row.pop(old_name)\n",
    "        return new_dataset\n",
    "    \n",
    "    def remove_attributes(self, dataset, columns_to_remove): #remove a list of columns in the dataset\n",
    "        new_dataset = [{key:value for key,value in row.items() if key not in columns_to_remove} \n",
    "                       for row in dataset]\n",
    "        return new_dataset\n",
    "            \n",
    "    def transform(self, dataset):\n",
    "        dataset_after_remove = self.remove_attributes(dataset, ['Bank Name', 'City', 'Cert', 'Acquiring Institution', 'Fund'])\n",
    "        dataset_after_rename = self.rename_attribute(dataset_after_remove, 'State', 'State Abbreviation')\n",
    "        return dataset_after_rename\n",
    "\n",
    "e = extract()\n",
    "dataset = e.fromCSV(\"data/banklist.csv\")\n",
    "t = transform()\n",
    "# data = t.head(dataset, 1)\n",
    "# data = t.tail(dataset, 2)\n",
    "# print(\"data: \", data)\n",
    "\n",
    "# t.rename_attribute(dataset, 'State', 'State abr')\n",
    "# t.head(dataset, 5)\n",
    "\n",
    "# data = t.remove_attribute(dataset, 'Bank Name')\n",
    "# print(data)\n",
    "\n",
    "# data = t.rename_attributes(dataset, ['State', 'Cert'], ['STATE ABR', 'CERTIFICATION'])\n",
    "# print(data)\n",
    "\n",
    "# new_dataset = t.remove_attributes(dataset, ['City', 'Bank Name', 'State'])\n",
    "# print(\"new_dataset: \", new_dataset)\n",
    "\n",
    "data = t.transform(dataset)\n",
    "print(data)"
   ]
  },
  {
   "cell_type": "code",
   "execution_count": null,
   "id": "ae74c009",
   "metadata": {},
   "outputs": [],
   "source": []
  }
 ],
 "metadata": {
  "kernelspec": {
   "display_name": "Python 3 (ipykernel)",
   "language": "python",
   "name": "python3"
  },
  "language_info": {
   "codemirror_mode": {
    "name": "ipython",
    "version": 3
   },
   "file_extension": ".py",
   "mimetype": "text/x-python",
   "name": "python",
   "nbconvert_exporter": "python",
   "pygments_lexer": "ipython3",
   "version": "3.11.5"
  }
 },
 "nbformat": 4,
 "nbformat_minor": 5
}
