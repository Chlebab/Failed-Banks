{
 "cells": [
  {
   "cell_type": "code",
   "execution_count": 10,
   "id": "afaed6c9",
   "metadata": {},
   "outputs": [
    {
     "name": "stdout",
     "output_type": "stream",
     "text": [
      "{'State': 'IA', 'Closing Date': '03-Nov-23'}\n"
     ]
    }
   ],
   "source": [
    "import csv\n",
    "from extract import extract # import the external extract class\n",
    "from transform import transform # import the external transform class\n",
    "\n",
    "class load:\n",
    "    def toCSV(self, file_path, dataset):\n",
    "        with open(file_path, mode='w', newline='') as csv_file:\n",
    "            writer = csv.DictWriter(csv_file, fieldnames = dataset[0].keys())\n",
    "            writer.writeheader()\n",
    "            writer.writerows(dataset)\n",
    "\n",
    "e = extract()\n",
    "dataset = e.fromCSV(file_path = 'data/banklist.csv')\n",
    "\n",
    "t = transform()\n",
    "transformed_data = t.transform(dataset)\n",
    "\n",
    "l = load()\n",
    "l.toCSV(file_path = \"data/banklist_transform_copy.csv\", dataset = transformed_data)\n",
    "\n",
    "check_dataset = e.fromCSV(file_path = 'data/banklist_transform_copy.csv')\n",
    "print(check_dataset[0])\n"
   ]
  }
 ],
 "metadata": {
  "kernelspec": {
   "display_name": "Python 3 (ipykernel)",
   "language": "python",
   "name": "python3"
  },
  "language_info": {
   "codemirror_mode": {
    "name": "ipython",
    "version": 3
   },
   "file_extension": ".py",
   "mimetype": "text/x-python",
   "name": "python",
   "nbconvert_exporter": "python",
   "pygments_lexer": "ipython3",
   "version": "3.11.5"
  }
 },
 "nbformat": 4,
 "nbformat_minor": 5
}
